{
 "cells": [
  {
   "cell_type": "markdown",
   "id": "5b0f6d80",
   "metadata": {},
   "source": [
    "# Calculating $\\pi$ using Viète's formula\n",
    "\n",
    "In mathematics, Viète's formula is the following infinite product of nested radicals representing twice the reciprocal of the mathematical constant $\\pi$:\n",
    "\n",
    "${\\displaystyle {\\frac {2}{\\pi }}={\\frac {\\sqrt {2}}{2}}\\cdot {\\frac {\\sqrt {2+{\\sqrt {2}}}}{2}}\\cdot {\\frac {\\sqrt {2+{\\sqrt {2+{\\sqrt {2}}}}}}{2}}\\cdots }$\n",
    "\n",
    "It can also be represented as:\n",
    "\n",
    "${\\displaystyle {\\frac {2}{\\pi }}=\\prod _{n=1}^{\\infty }\\cos {\\frac {\\pi }{2^{n+1}}}}$\n",
    "\n",
    "The formula is named after François Viète, who published it in 1593.\n",
    "\n",
    "References: https://en.wikipedia.org/wiki/Vi%C3%A8te%27s_formula"
   ]
  },
  {
   "cell_type": "code",
   "execution_count": 1,
   "id": "006012d8",
   "metadata": {},
   "outputs": [],
   "source": [
    "from decimal import Decimal, getcontext\n",
    "\n",
    "ctx= getcontext()\n",
    "digits = 5000\n",
    "ctx.prec=digits"
   ]
  },
  {
   "cell_type": "markdown",
   "id": "387d119f",
   "metadata": {},
   "source": [
    "Viète's formula may be rewritten and understood as a limit expression:\n",
    "\n",
    "${\\displaystyle \\lim _{n\\rightarrow \\infty }\\prod _{i=1}^{n}{\\frac {a_{i}}{2}}={\\frac {2}{\\pi }}}$\n",
    "where\n",
    "\n",
    "${\\displaystyle {\\begin{aligned}a_{1}&={\\sqrt {2}}\\\\a_{n}&={\\sqrt {2+a_{n-1}}}\\end{aligned}}}$\n",
    "and \n",
    "\n",
    "${\\displaystyle {\\begin{aligned}p_{n}&=\\frac{2}{\\sqrt{2}}.\\frac{2}{\\sqrt {2+\\sqrt{2}}}.\\frac{2}{\\sqrt {2+\\sqrt{2+\\sqrt{2}}}} \\cdots \\approx \\frac{\\pi}{2} \\\\\n",
    "p_{n}&=\\frac{2}{a_1}.\\frac{2}{a_2}.\\frac{2}{a_3} \\cdots \\approx \\frac{\\pi}{2}\\end{aligned}}}$"
   ]
  },
  {
   "cell_type": "code",
   "execution_count": 2,
   "id": "40925f8d",
   "metadata": {},
   "outputs": [],
   "source": [
    "def vieta_formula(n, k):\n",
    "    m = n+k\n",
    "    a_n = 0\n",
    "    p=1\n",
    "    # fill V[0,n] for n to n+k\n",
    "    for i in range(1, m+1):\n",
    "        a_n = ctx.sqrt(2 + a_n)\n",
    "        p *= Decimal(2/a_n)\n",
    "        if i>=n:\n",
    "            V.append(p)\n",
    "    pi = V[-1]*2\n",
    "    return pi"
   ]
  },
  {
   "cell_type": "code",
   "execution_count": 3,
   "id": "849bdeca",
   "metadata": {},
   "outputs": [],
   "source": [
    "n=27\n",
    "k=100\n",
    "V=[]\n",
    "pi1 = vieta_formula(n,k)"
   ]
  },
  {
   "cell_type": "markdown",
   "id": "20df93ca",
   "metadata": {},
   "source": [
    "---\n",
    "## Kreminski's Accelerated Convergence of Viète's Formula\n",
    "\n",
    "This infinite product formula, while elegant, is a poor choice for computing the decimal digits of π because it converges so slowly.  \n",
    "You may have observed that each Viète iteration requires a square root operation.  Square root operations are computationally very expensive making Viète's Formula computationally uninteresting.\n",
    "\n",
    "An article by Rick Kreminski, offers a recursion that accelerates the convergence of Viète's Formula. Viète became computationally interesting.\n",
    "\n",
    "${\\displaystyle {\\begin{aligned}V_{(k,n)}&=\\frac{4^{k}V_{(k-1, n+1)} - V_{(k-1, n)}}{4^k-1} \\\\V_{(0,n)}&=p_n \\end{aligned}}}$\n",
    "\n",
    "Let $p_n$ denote the partial product of the first n terms in (Vieta), and let $V_{(k,n)} $ be the accelerations.\n",
    "\n",
    "Reference: R. Kreminski, Pi to Thousands of Digits from Vieta's Formula, Mathematics Magazine, Vol. 81, No. 3, June 2008, 201-207 - https://www.jstor.org/stable/27643107"
   ]
  },
  {
   "cell_type": "code",
   "execution_count": 4,
   "id": "67e50ca8",
   "metadata": {},
   "outputs": [],
   "source": [
    "def vieta_accelerated(k):\n",
    "    kpow = 1\n",
    "    n = k\n",
    "    for j in range(k):\n",
    "        kpow *= 4\n",
    "        for i in range(n):\n",
    "            V[i] = Decimal((Decimal(kpow * V[i+1]) - V[i]) / (kpow-1))\n",
    "        n-=1\n",
    "    return Decimal(2*V[0])"
   ]
  },
  {
   "cell_type": "code",
   "execution_count": 5,
   "id": "986fae17",
   "metadata": {},
   "outputs": [],
   "source": [
    "pi2 = vieta_accelerated(k)\n",
    "#print(pi2)"
   ]
  },
  {
   "cell_type": "markdown",
   "id": "e19d0a1e",
   "metadata": {},
   "source": [
    "---\n",
    "## Compare with accurate values of pi :\n",
    "\n",
    "\n",
    "Reference: \"[50,000 digits of $\\pi$.](https://vhernando.github.io/pi-digits-500000-calculate)\""
   ]
  },
  {
   "cell_type": "code",
   "execution_count": 6,
   "id": "de2849a9",
   "metadata": {},
   "outputs": [],
   "source": [
    "# accurate upto 50k decimal places\n",
    "#a='3.1415926535897932384626433832795028841971693993751058209749445923078164062862089986280348253421170679821480865132823066470938446095505822317253594081284811174502841027019385211055596446229489549303819644288109756659334461284756482337867831652712019091456485669234603486104543266482133936072602491412737245870066063155881748815209209628292540917153643678925903600113305305488204665213841469519415116094330572703657595919530921861173819326117931051185480744623799627495673518857527248912279381830119491298336733624406566430860213949463952247371907021798609437027705392171762931767523846748184676694051320005681271452635608277857713427577896091736371787214684409012249534301465495853710507922796892589235420199561121290219608640344181598136297747713099605187072113499999983729780499510597317328160963185950244594553469083026425223082533446850352619311881710100031378387528865875332083814206171776691473035982534904287554687311595628638823537875937519577818577805321712268066130019278766111959092164201989380952572010654858632788659361533818279682303019520353018529689957736225994138912497217752834791315155748572424541506959508295331168617278558890750983817546374649393192550604009277016711390098488240128583616035637076601047101819429555961989467678374494482553797747268471040475346462080466842590694912933136770289891521047521620569660240580381501935112533824300355876402474964732639141992726042699227967823547816360093417216412199245863150302861829745557067498385054945885869269956909272107975093029553211653449872027559602364806654991198818347977535663698074265425278625518184175746728909777727938000816470600161452491921732172147723501414419735685481613611573525521334757418494684385233239073941433345477624168625189835694855620992192221842725502542568876717904946016534668049886272327917860857843838279679766814541009538837863609506800642251252051173929848960841284886269456042419652850222106611863067442786220391949450471237137869609563643719172874677646575739624138908658326459958133904780275900994657640789512694683983525957098258226205224894077267194782684826014769909026401363944374553050682034962524517493996514314298091906592509372216964615157098583874105978859597729754989301617539284681382686838689427741559918559252459539594310499725246808459872736446958486538367362226260991246080512438843904512441365497627807977156914359977001296160894416948685558484063534220722258284886481584560285060168427394522674676788952521385225499546667278239864565961163548862305774564980355936345681743241125150760694794510965960940252288797108931456691368672287489405601015033086179286809208747609178249385890097149096759852613655497818931297848216829989487226588048575640142704775551323796414515237462343645428584447952658678210511413547357395231134271661021359695362314429524849371871101457654035902799344037420073105785390621983874478084784896833214457138687519435064302184531910484810053706146806749192781911979399520614196634287544406437451237181921799983910159195618146751426912397489409071864942319615679452080951465502252316038819301420937621378559566389377870830390697920773467221825625996615014215030680384477345492026054146659252014974428507325186660021324340881907104863317346496514539057962685610055081066587969981635747363840525714591028970641401109712062804390397595156771577004203378699360072305587631763594218731251471205329281918261861258673215791984148488291644706095752706957220917567116722910981690915280173506712748583222871835209353965725121083579151369882091444210067510334671103141267111369908658516398315019701651511685171437657618351556508849099898599823873455283316355076479185358932261854896321329330898570642046752590709154814165498594616371802709819943099244889575712828905923233260972997120844335732654893823911932597463667305836041428138830320382490375898524374417029132765618093773444030707469211201913020330380197621101100449293215160842444859637669838952286847831235526582131449576857262433441893039686426243410773226978028073189154411010446823252716201052652272111660396665573092547110557853763466820653109896526918620564769312570586356620185581007293606598764861179104533488503461136576867532494416680396265797877185560845529654126654085306143444318586769751456614068007002378776591344017127494704205622305389945613140711270004078547332699390814546646458807972708266830634328587856983052358089330'\n",
    "\n",
    "def getPi(digits=2000):\n",
    "    from urllib.request import urlopen\n",
    "    url = 'https://vhernando.github.io/pi-digits-500000-calculate'\n",
    "    page = urlopen(url)\n",
    "    html_bytes = page.read()\n",
    "    html = html_bytes.decode(\"utf-8\")\n",
    "    \n",
    "    sp = html.find('3.14')   # starting point of pi\n",
    "    \n",
    "    # ending point of pi\n",
    "    #ep = html.find('24<br>')\n",
    "    \n",
    "    return html[sp:sp+digits]"
   ]
  },
  {
   "cell_type": "code",
   "execution_count": 7,
   "id": "f2e8963c",
   "metadata": {},
   "outputs": [],
   "source": [
    "def compare(approx_pi, digits=2000):\n",
    "    org_pi = getPi(digits)\n",
    "    approx_pi = str(approx_pi)\n",
    "    count=0\n",
    "    i=0\n",
    "    try:\n",
    "        while(i<=digits):\n",
    "            if org_pi[i] != approx_pi[i]:\n",
    "                break\n",
    "            count+=1\n",
    "            i+=1\n",
    "    except:\n",
    "        print('Error at: ',i)\n",
    "    return count"
   ]
  },
  {
   "cell_type": "code",
   "execution_count": 8,
   "id": "894bc8e7",
   "metadata": {},
   "outputs": [
    {
     "name": "stdout",
     "output_type": "stream",
     "text": [
      "Accuracy of pi calculated using Vieta's formula:  77\n",
      "Accuracy of pi calculated using Accelerated Vieta's formula:  4999\n"
     ]
    }
   ],
   "source": [
    "print(\"Accuracy of pi calculated using Vieta's formula: \", compare(pi1, digits))\n",
    "print(\"Accuracy of pi calculated using Accelerated Vieta's formula: \", compare(pi2, digits))"
   ]
  },
  {
   "cell_type": "code",
   "execution_count": 9,
   "id": "c3aff0db",
   "metadata": {},
   "outputs": [
    {
     "name": "stdout",
     "output_type": "stream",
     "text": [
      "Time for calculating Vieta terms: 2.7705774307250977s\n"
     ]
    }
   ],
   "source": [
    "## Time taken\n",
    "import time \n",
    "\n",
    "a= time.time()\n",
    "vpi = vieta_formula(27,100)\n",
    "va_pi = vieta_accelerated(0)\n",
    "print(\"Time for calculating Vieta terms: {}s\".format(time.time()-a))"
   ]
  },
  {
   "cell_type": "markdown",
   "id": "38d25dc9",
   "metadata": {},
   "source": [
    "## Plotting w.r.t time\n",
    "Below is a plot and a table of k vs. time for Kreminski's Accelerated Viète program.\n",
    "\n",
    "NOTE: n was computed based on the maximum number of digits $\\pi$ (5000) desired."
   ]
  },
  {
   "cell_type": "code",
   "execution_count": 10,
   "id": "8ed6d396",
   "metadata": {},
   "outputs": [
    {
     "name": "stdout",
     "output_type": "stream",
     "text": [
      "Time for calculating Accelerated Vieta with n=8334 and k=0: 174.2459752559662s\n",
      "Time for calculating Accelerated Vieta with n=4166 and k=1: 81.65101957321167s\n",
      "Time for calculating Accelerated Vieta with n=2081 and k=3: 43.45528769493103s\n",
      "Time for calculating Accelerated Vieta with n=1385 and k=5: 28.828205347061157s\n",
      "Time for calculating Accelerated Vieta with n=750 and k=10: 16.21109914779663s\n",
      "Time for calculating Accelerated Vieta with n=134 and k=50: 3.9490482807159424s\n",
      "Time for calculating Accelerated Vieta with n=27 and k=100: 3.0586395263671875s\n"
     ]
    }
   ],
   "source": [
    "K=[0,1,3,5,10,50,100]\n",
    "N=[8334, 4166,2081, 1385, 750, 134, 27]\n",
    "tt=[]\n",
    "\n",
    "for ki, ni in zip(K,N):\n",
    "    a = time.time()\n",
    "    V=[]\n",
    "    v = vieta_formula(ni,ki)\n",
    "    va = vieta_accelerated(ki)\n",
    "    tt.append(time.time()-a)\n",
    "    print(\"Time for calculating Accelerated Vieta with n={} and k={}: {}s\".format(ni, ki, tt[-1]))"
   ]
  },
  {
   "cell_type": "code",
   "execution_count": 11,
   "id": "11675496",
   "metadata": {},
   "outputs": [
    {
     "data": {
      "image/png": "[encoded data removed]",
      "text/plain": [
       "<Figure size 300x300 with 1 Axes>"
      ]
     },
     "metadata": {},
     "output_type": "display_data"
    }
   ],
   "source": [
    "import matplotlib.pyplot as plt\n",
    "\n",
    "plt.figure(figsize=(3, 3))\n",
    "plt.plot(K,tt)\n",
    "plt.title('Vieta k vs time')\n",
    "plt.ylabel('Time taken (in sec)')\n",
    "plt.xlabel('k')\n",
    "plt.show()"
   ]
  },
  {
   "cell_type": "markdown",
   "id": "e567a638",
   "metadata": {},
   "source": [
    "Ref: https://www.hpmuseum.org/cgi-sys/cgiwrap/hpmuseum/archv018.cgi?read=144283"
   ]
  },
  {
   "cell_type": "markdown",
   "id": "32713137",
   "metadata": {},
   "source": [
    "## Find Optimal k and n\n",
    " \n",
    "${\\displaystyle {\\begin{aligned} |\\pi - 2V_{(k,n)}| \\leq 2C_k 10^{-.6(k+1)n} \\end{aligned}}}$\n",
    "\n",
    "where $C_k$ tends to zero as k increases\n",
    "\n",
    "The number of accurate $\\pi$ digits for any k and n ${\\displaystyle {\\begin{aligned} \\gt -.6(k+1)n - [\\log_{10}(C_k)]\\end{aligned}}}$"
   ]
  },
  {
   "cell_type": "code",
   "execution_count": 12,
   "id": "f3e65f59",
   "metadata": {},
   "outputs": [],
   "source": [
    "def getAccuracyCount(n,k):\n",
    "    Ck = ctx.power(10,-1283)*Decimal(2.6)\n",
    "    ln = ctx.log10(Ck)\n",
    "    return round(Decimal(0.6*(k+1)*n)-ln)"
   ]
  },
  {
   "cell_type": "code",
   "execution_count": 13,
   "id": "1e9f2091",
   "metadata": {},
   "outputs": [
    {
     "data": {
      "text/plain": [
       "5016"
      ]
     },
     "execution_count": 13,
     "metadata": {},
     "output_type": "execute_result"
    }
   ],
   "source": [
    "getAccuracyCount(102, 60)"
   ]
  },
  {
   "cell_type": "code",
   "execution_count": 14,
   "id": "658bf3c5",
   "metadata": {},
   "outputs": [],
   "source": [
    "def getOptimalK(n, AC):\n",
    "    Ck = ctx.power(10,-1283)*Decimal(2.6)\n",
    "    return round(Decimal((AC + ctx.log10(Ck))/Decimal(0.6*n))+1)"
   ]
  },
  {
   "cell_type": "code",
   "execution_count": 15,
   "id": "e6f897d1",
   "metadata": {},
   "outputs": [
    {
     "name": "stdout",
     "output_type": "stream",
     "text": [
      "For, n = 8334 --> k ~ 2\n",
      "For, n = 4166 --> k ~ 2\n",
      "For, n = 2081 --> k ~ 4\n",
      "For, n = 1385 --> k ~ 5\n",
      "For, n = 750 --> k ~ 9\n",
      "For, n = 134 --> k ~ 47\n",
      "For, n = 100 --> k ~ 63\n",
      "For, n = 50 --> k ~ 125\n",
      "For, n = 27 --> k ~ 230\n",
      "For, n = 1 --> k ~ 6197\n"
     ]
    }
   ],
   "source": [
    "# lets find optimal k's for calcuating pi upto 5000 terms\n",
    "N=[8334, 4166, 2081, 1385, 750, 134, 100, 50, 27, 1]\n",
    "K=[]\n",
    "for n in N:\n",
    "    k = getOptimalK(n,5000)\n",
    "    print('For, n = {} --> k ~ {}'.format(n, k))\n",
    "    #K.append(k)"
   ]
  }
 ],
 "metadata": {
  "kernelspec": {
   "display_name": "Python 3 (ipykernel)",
   "language": "python",
   "name": "python3"
  },
  "language_info": {
   "codemirror_mode": {
    "name": "ipython",
    "version": 3
   },
   "file_extension": ".py",
   "mimetype": "text/x-python",
   "name": "python",
   "nbconvert_exporter": "python",
   "pygments_lexer": "ipython3",
   "version": "3.10.5"
  }
 },
 "nbformat": 4,
 "nbformat_minor": 5
}
