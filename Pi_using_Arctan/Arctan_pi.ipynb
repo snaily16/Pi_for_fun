{
 "cells": [
  {
   "attachments": {},
   "cell_type": "markdown",
   "id": "124aecad",
   "metadata": {},
   "source": [
    "# Calculating $\\pi$ upto 5000 digits using Machin-like formula\n",
    "This equation was discovered in 1706 by John Machin, and has been in use for around 300 years. It is suitable for the calculation of Pi because it converges quickly.\n",
    "\n",
    "${\\displaystyle {\\frac  {\\pi }{4}}=4\\arctan {\\frac  {1}{5}}-\\arctan {\\frac  {1}{239}} }$\n",
    "\n",
    "Sources:\n",
    "https://en.wikipedia.org/wiki/Machin-like_formula\n",
    "https://www.youtube.com/watch?v=enQdwZwoyyo"
   ]
  },
  {
   "cell_type": "code",
   "execution_count": 1,
   "id": "1487a96e",
   "metadata": {},
   "outputs": [],
   "source": [
    "from decimal import getcontext\n",
    "from decimal import Decimal as dec\n",
    "from math import atan, pi\n",
    "import time"
   ]
  },
  {
   "cell_type": "code",
   "execution_count": 33,
   "id": "377424f1",
   "metadata": {},
   "outputs": [],
   "source": [
    "ctx = getcontext()\n",
    "digits = 5000\n",
    "ctx.prec = digits\n",
    "terms_5 = 3600\n",
    "terms_239 = 1050"
   ]
  },
  {
   "cell_type": "markdown",
   "id": "6b42b3f4",
   "metadata": {},
   "source": [
    "The Taylor series expansion for arctangent:\n",
    "\n",
    "$\n",
    "{\\displaystyle \\arctan x=\\sum _{n=0}^{\\infty }{\\frac {(-1)^{n}}{2n+1}}x^{2n+1}=x-{\\frac {x^{3}}{3}}+{\\frac {x^{5}}{5}}-{\\frac {x^{7}}{7}}+\\cdots }$"
   ]
  },
  {
   "cell_type": "code",
   "execution_count": 3,
   "id": "33018a91",
   "metadata": {},
   "outputs": [],
   "source": [
    "def arctan(x,n):\n",
    "    x = dec(x)\n",
    "    total = dec(0)\n",
    "    # for -1 <= x <= 1\n",
    "    for i in range(n):\n",
    "        sign = -1 if i%2 else 1\n",
    "        f = dec(2*i + 1)\n",
    "        denom = dec(f * dec(x**f))\n",
    "        total += dec(sign / denom)\n",
    "    return total"
   ]
  },
  {
   "cell_type": "markdown",
   "id": "a016824a",
   "metadata": {},
   "source": [
    "Also, using Arctan properties, we can write -\n",
    "\n",
    "${\\displaystyle {\\frac  {\\pi }{4}}=\\arctan {\\frac  {1}{3}}+\\arctan {\\frac  {1}{2}} }$"
   ]
  },
  {
   "cell_type": "code",
   "execution_count": 4,
   "id": "2e1ba223",
   "metadata": {},
   "outputs": [],
   "source": [
    "def pie(fun):\n",
    "    if fun==1:\n",
    "        # Machin-like formula using math library\n",
    "        at1 = dec(atan(dec(1/5)))\n",
    "        at2 = dec(atan(dec(1/239)))\n",
    "    elif fun==2:\n",
    "        # Machin-like formula by custom arctan\n",
    "        at1 = arctan(5, terms_5)\n",
    "        at2 = arctan(239, terms_239)\n",
    "    elif fun==3:\n",
    "        # arctan properties\n",
    "        return dec(4*(arctan(2,terms_5)+arctan(3,terms_239)))\n",
    "    \n",
    "    return dec(4 * dec(4*at1 - at2))"
   ]
  },
  {
   "cell_type": "markdown",
   "id": "1b2d6304",
   "metadata": {},
   "source": [
    "---\n",
    "## Compare with accurate values of pi :\n",
    "\n",
    "\n",
    "Reference: \"[50,000 digits of $\\pi$.](https://vhernando.github.io/pi-digits-500000-calculate)\""
   ]
  },
  {
   "cell_type": "code",
   "execution_count": 5,
   "id": "ddd325fd",
   "metadata": {},
   "outputs": [],
   "source": [
    "# accurate upto 50k decimal places\n",
    "#a='3.1415926535897932384626433832795028841971693993751058209749445923078164062862089986280348253421170679821480865132823066470938446095505822317253594081284811174502841027019385211055596446229489549303819644288109756659334461284756482337867831652712019091456485669234603486104543266482133936072602491412737245870066063155881748815209209628292540917153643678925903600113305305488204665213841469519415116094330572703657595919530921861173819326117931051185480744623799627495673518857527248912279381830119491298336733624406566430860213949463952247371907021798609437027705392171762931767523846748184676694051320005681271452635608277857713427577896091736371787214684409012249534301465495853710507922796892589235420199561121290219608640344181598136297747713099605187072113499999983729780499510597317328160963185950244594553469083026425223082533446850352619311881710100031378387528865875332083814206171776691473035982534904287554687311595628638823537875937519577818577805321712268066130019278766111959092164201989380952572010654858632788659361533818279682303019520353018529689957736225994138912497217752834791315155748572424541506959508295331168617278558890750983817546374649393192550604009277016711390098488240128583616035637076601047101819429555961989467678374494482553797747268471040475346462080466842590694912933136770289891521047521620569660240580381501935112533824300355876402474964732639141992726042699227967823547816360093417216412199245863150302861829745557067498385054945885869269956909272107975093029553211653449872027559602364806654991198818347977535663698074265425278625518184175746728909777727938000816470600161452491921732172147723501414419735685481613611573525521334757418494684385233239073941433345477624168625189835694855620992192221842725502542568876717904946016534668049886272327917860857843838279679766814541009538837863609506800642251252051173929848960841284886269456042419652850222106611863067442786220391949450471237137869609563643719172874677646575739624138908658326459958133904780275900994657640789512694683983525957098258226205224894077267194782684826014769909026401363944374553050682034962524517493996514314298091906592509372216964615157098583874105978859597729754989301617539284681382686838689427741559918559252459539594310499725246808459872736446958486538367362226260991246080512438843904512441365497627807977156914359977001296160894416948685558484063534220722258284886481584560285060168427394522674676788952521385225499546667278239864565961163548862305774564980355936345681743241125150760694794510965960940252288797108931456691368672287489405601015033086179286809208747609178249385890097149096759852613655497818931297848216829989487226588048575640142704775551323796414515237462343645428584447952658678210511413547357395231134271661021359695362314429524849371871101457654035902799344037420073105785390621983874478084784896833214457138687519435064302184531910484810053706146806749192781911979399520614196634287544406437451237181921799983910159195618146751426912397489409071864942319615679452080951465502252316038819301420937621378559566389377870830390697920773467221825625996615014215030680384477345492026054146659252014974428507325186660021324340881907104863317346496514539057962685610055081066587969981635747363840525714591028970641401109712062804390397595156771577004203378699360072305587631763594218731251471205329281918261861258673215791984148488291644706095752706957220917567116722910981690915280173506712748583222871835209353965725121083579151369882091444210067510334671103141267111369908658516398315019701651511685171437657618351556508849099898599823873455283316355076479185358932261854896321329330898570642046752590709154814165498594616371802709819943099244889575712828905923233260972997120844335732654893823911932597463667305836041428138830320382490375898524374417029132765618093773444030707469211201913020330380197621101100449293215160842444859637669838952286847831235526582131449576857262433441893039686426243410773226978028073189154411010446823252716201052652272111660396665573092547110557853763466820653109896526918620564769312570586356620185581007293606598764861179104533488503461136576867532494416680396265797877185560845529654126654085306143444318586769751456614068007002378776591344017127494704205622305389945613140711270004078547332699390814546646458807972708266830634328587856983052358089330'\n",
    "\n",
    "def getPi(digits=2000):\n",
    "    from urllib.request import urlopen\n",
    "    url = 'https://vhernando.github.io/pi-digits-500000-calculate'\n",
    "    page = urlopen(url)\n",
    "    html_bytes = page.read()\n",
    "    html = html_bytes.decode(\"utf-8\")\n",
    "    \n",
    "    sp = html.find('3.14')   # starting point of pi\n",
    "    \n",
    "    # ending point of pi\n",
    "    #ep = html.find('24<br>')\n",
    "    \n",
    "    return html[sp:sp+digits]"
   ]
  },
  {
   "cell_type": "code",
   "execution_count": 6,
   "id": "94ebd0ab",
   "metadata": {},
   "outputs": [],
   "source": [
    "def compare(approx_pi, digits=2000):\n",
    "    org_pi = getPi(digits)\n",
    "    approx_pi = str(approx_pi)\n",
    "    count=0\n",
    "    i=0\n",
    "    try:\n",
    "        while(i<=digits):\n",
    "            if org_pi[i] != approx_pi[i]:\n",
    "                break\n",
    "            count+=1\n",
    "            i+=1\n",
    "    except:\n",
    "        print('Error at: ',i)\n",
    "    return count"
   ]
  },
  {
   "cell_type": "code",
   "execution_count": 34,
   "id": "994a5e55",
   "metadata": {},
   "outputs": [],
   "source": [
    "pi1 = pie(1) \n",
    "pi2 = pie(2)   # Machin-like formula with custom arctan\n",
    "pi3 = pie(3)   # arctan properties"
   ]
  },
  {
   "cell_type": "code",
   "execution_count": 39,
   "id": "fde5ad98",
   "metadata": {},
   "outputs": [
    {
     "name": "stdout",
     "output_type": "stream",
     "text": [
      "Accuracy of pi caluclated using Math libary function:  17\n",
      "Accuracy of pi caluclated using Machin-like formula:  4999\n",
      "Accuracy of pi caluclated using Arctan properties:  1006\n"
     ]
    }
   ],
   "source": [
    "print(\"Accuracy of pi caluclated using Math libary function: \", compare(pi1, digits))\n",
    "print(\"Accuracy of pi caluclated using Machin-like formula: \", compare(pi2, digits))\n",
    "print(\"Accuracy of pi caluclated using Arctan properties: \", compare(pi3, digits))"
   ]
  },
  {
   "cell_type": "markdown",
   "id": "88db95a8",
   "metadata": {},
   "source": [
    "## Let's calculate the time taken to calculate Pi"
   ]
  },
  {
   "cell_type": "code",
   "execution_count": 38,
   "id": "4d6f93e6",
   "metadata": {
    "scrolled": true
   },
   "outputs": [
    {
     "name": "stdout",
     "output_type": "stream",
     "text": [
      "Time for calculating pi using 3600 terms of arctan(1/5) terms and 1050 terms of arctan(1/239): 3.8976268768310547s\n"
     ]
    }
   ],
   "source": [
    "## Time taken\n",
    "\n",
    "a= time.time()\n",
    "pi = pie(2)\n",
    "print(\"Time for calculating pi using {} terms of arctan(1/5) terms and {} terms of arctan(1/239): {}s\".format(terms_5,terms_239, time.time()-a))"
   ]
  }
 ],
 "metadata": {
  "kernelspec": {
   "display_name": "Python 3 (ipykernel)",
   "language": "python",
   "name": "python3"
  },
  "language_info": {
   "codemirror_mode": {
    "name": "ipython",
    "version": 3
   },
   "file_extension": ".py",
   "mimetype": "text/x-python",
   "name": "python",
   "nbconvert_exporter": "python",
   "pygments_lexer": "ipython3",
   "version": "3.10.5"
  }
 },
 "nbformat": 4,
 "nbformat_minor": 5
}
